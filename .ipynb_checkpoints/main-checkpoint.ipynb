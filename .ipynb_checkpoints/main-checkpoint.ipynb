{
 "cells": [
  {
   "cell_type": "code",
   "execution_count": 1,
   "id": "abf7d655",
   "metadata": {},
   "outputs": [],
   "source": [
    "import pandas as pd\n",
    "import numpy as np\n",
    "import scipy\n",
    "from scipy.stats import norm\n",
    "import seaborn as sns\n",
    "import matplotlib.pyplot as plt\n",
    "import os\n",
    "\n",
    "sns.set_theme(style=\"ticks\", palette=sns.color_palette(\"Set2\"))"
   ]
  },
  {
   "cell_type": "code",
   "execution_count": 2,
   "id": "d02d4fb2-1067-4202-bb77-8ad4ac0ba9fa",
   "metadata": {},
   "outputs": [
    {
     "name": "stdout",
     "output_type": "stream",
     "text": [
      "Arquivo baixado com sucesso e salvo em: data/download\n"
     ]
    }
   ],
   "source": [
    "import os\n",
    "import requests\n",
    "\n",
    "def download_file(url, save_path):\n",
    "    # Cria a pasta 'data' se não existir\n",
    "    os.makedirs(os.path.dirname(save_path), exist_ok=True)\n",
    "    \n",
    "    # Faz o download do arquivo\n",
    "    response = requests.get(url, stream=True)\n",
    "    response.raise_for_status()  # Verifica se houve erros\n",
    "    \n",
    "    # Salva o arquivo\n",
    "    with open(save_path, 'wb') as file:\n",
    "        for chunk in response.iter_content(chunk_size=8192):\n",
    "            file.write(chunk)\n",
    "    \n",
    "    print(f\"Arquivo baixado com sucesso e salvo em: {save_path}\")\n",
    "\n",
    "# URL do arquivo\n",
    "file_url = \"https://osf.io/62t7f/download\"\n",
    "\n",
    "# Caminho para salvar o arquivo (pasta data no diretório atual)\n",
    "save_path = os.path.join(\"data\", os.path.basename(file_url))\n",
    "\n",
    "# Executa o download\n",
    "download_file(file_url, save_path)"
   ]
  },
  {
   "cell_type": "code",
   "execution_count": null,
   "id": "0de0add2-9fdd-4a64-8c45-9e604a30711a",
   "metadata": {},
   "outputs": [],
   "source": []
  },
  {
   "cell_type": "code",
   "execution_count": 8,
   "id": "4a547985-09b3-4589-9bd3-0ed347823ca7",
   "metadata": {},
   "outputs": [
    {
     "name": "stdout",
     "output_type": "stream",
     "text": [
      "--2025-08-03 10:47:42--  https://osf.io/62t7f/download\n",
      "Resolving osf.io (osf.io)... 35.190.84.173\n",
      "Connecting to osf.io (osf.io)|35.190.84.173|:443... connected.\n",
      "HTTP request sent, awaiting response... 302 FOUND\n",
      "Location: https://files.de-1.osf.io/v1/resources/64jsb/providers/osfstorage/61295e4138595801222ebfde?action=download&direct&version=1 [following]\n",
      "--2025-08-03 10:47:42--  https://files.de-1.osf.io/v1/resources/64jsb/providers/osfstorage/61295e4138595801222ebfde?action=download&direct&version=1\n",
      "Resolving files.de-1.osf.io (files.de-1.osf.io)... 35.186.249.111\n",
      "Connecting to files.de-1.osf.io (files.de-1.osf.io)|35.186.249.111|:443... connected.\n",
      "HTTP request sent, awaiting response... 200 OK\n",
      "Length: 1003239 (980K) [application/octet-stream]\n",
      "Saving to: ‘./data/asos_digital_experiments_dataset.parquet’\n",
      "\n",
      "./data/asos_digital 100%[===================>] 979,73K   874KB/s    in 1,1s    \n",
      "\n",
      "2025-08-03 10:47:45 (874 KB/s) - ‘./data/asos_digital_experiments_dataset.parquet’ saved [1003239/1003239]\n",
      "\n"
     ]
    }
   ],
   "source": [
    "# Specifying the directories and paths\n",
    "working_folder = \".\"\n",
    "\n",
    "figures_folder = working_folder + os.path.sep + 'figures' + os.path.sep\n",
    "if not os.path.isdir(figures_folder):\n",
    "    os.mkdir(figures_folder)\n",
    "    \n",
    "data_folder = working_folder + os.path.sep + 'data' + os.path.sep # ./data/\n",
    "\n",
    "\n",
    "#'./data/asos_digital_experiments_dataset.parquet'\n",
    "abtest_metrics_local_path = data_folder + 'asos_digital_experiments_dataset.parquet' \n",
    "abtest_metrics_remote_path = \"https://osf.io/62t7f/download\" \n",
    "\n",
    "# Download the dataset if it does not already exist\n",
    "# The body of the if-statement is a shell command\n",
    "if not os.path.exists(abtest_metrics_local_path):\n",
    "    !wget -O $abtest_metrics_local_path $abtest_metrics_remote_path\n",
    "\n",
    "# Load the dataset\n",
    "abtest_metrics_df = pd.read_parquet(abtest_metrics_local_path)\n"
   ]
  },
  {
   "cell_type": "code",
   "execution_count": null,
   "id": "9ee5ccf2-0cda-44fa-be70-09affa0bb255",
   "metadata": {},
   "outputs": [],
   "source": []
  },
  {
   "cell_type": "code",
   "execution_count": 7,
   "id": "1abcc170-2e4b-48c8-a5aa-99a9fc3f8c55",
   "metadata": {},
   "outputs": [
    {
     "data": {
      "text/plain": [
       "'./data/asos_digital_experiments_dataset.parquet'"
      ]
     },
     "execution_count": 7,
     "metadata": {},
     "output_type": "execute_result"
    }
   ],
   "source": [
    "abtest_metrics_local_path"
   ]
  },
  {
   "cell_type": "code",
   "execution_count": 12,
   "id": "bc726f8c-2ced-4dc9-a0a5-96c4e6e2251e",
   "metadata": {},
   "outputs": [],
   "source": [
    "df = pd.read_parquet('data/download')"
   ]
  },
  {
   "cell_type": "code",
   "execution_count": 29,
   "id": "a065b96f-3e87-4a03-840d-9b0ff8432129",
   "metadata": {},
   "outputs": [
    {
     "data": {
      "text/plain": [
       "Index(['experiment_id', 'variant_id', 'metric_id', 'time_since_start',\n",
       "       'count_c', 'count_t', 'mean_c', 'mean_t', 'variance_c', 'variance_t'],\n",
       "      dtype='object')"
      ]
     },
     "execution_count": 29,
     "metadata": {},
     "output_type": "execute_result"
    }
   ],
   "source": [
    "df.columns"
   ]
  },
  {
   "cell_type": "code",
   "execution_count": 13,
   "id": "9ef2055b-afb0-4f11-8613-cfd321f4a412",
   "metadata": {},
   "outputs": [
    {
     "data": {
      "text/html": [
       "<div>\n",
       "<style scoped>\n",
       "    .dataframe tbody tr th:only-of-type {\n",
       "        vertical-align: middle;\n",
       "    }\n",
       "\n",
       "    .dataframe tbody tr th {\n",
       "        vertical-align: top;\n",
       "    }\n",
       "\n",
       "    .dataframe thead th {\n",
       "        text-align: right;\n",
       "    }\n",
       "</style>\n",
       "<table border=\"1\" class=\"dataframe\">\n",
       "  <thead>\n",
       "    <tr style=\"text-align: right;\">\n",
       "      <th></th>\n",
       "      <th>experiment_id</th>\n",
       "      <th>variant_id</th>\n",
       "      <th>metric_id</th>\n",
       "      <th>time_since_start</th>\n",
       "      <th>count_c</th>\n",
       "      <th>count_t</th>\n",
       "      <th>mean_c</th>\n",
       "      <th>mean_t</th>\n",
       "      <th>variance_c</th>\n",
       "      <th>variance_t</th>\n",
       "    </tr>\n",
       "  </thead>\n",
       "  <tbody>\n",
       "    <tr>\n",
       "      <th>0</th>\n",
       "      <td>036afc</td>\n",
       "      <td>2</td>\n",
       "      <td>1</td>\n",
       "      <td>1.5</td>\n",
       "      <td>188065.0</td>\n",
       "      <td>186686.0</td>\n",
       "      <td>0.107808</td>\n",
       "      <td>0.107828</td>\n",
       "      <td>0.096186</td>\n",
       "      <td>0.096201</td>\n",
       "    </tr>\n",
       "    <tr>\n",
       "      <th>1</th>\n",
       "      <td>036afc</td>\n",
       "      <td>2</td>\n",
       "      <td>1</td>\n",
       "      <td>2.0</td>\n",
       "      <td>245041.0</td>\n",
       "      <td>243694.0</td>\n",
       "      <td>0.131790</td>\n",
       "      <td>0.131435</td>\n",
       "      <td>0.114422</td>\n",
       "      <td>0.114160</td>\n",
       "    </tr>\n",
       "    <tr>\n",
       "      <th>2</th>\n",
       "      <td>036afc</td>\n",
       "      <td>2</td>\n",
       "      <td>1</td>\n",
       "      <td>2.5</td>\n",
       "      <td>277237.0</td>\n",
       "      <td>275949.0</td>\n",
       "      <td>0.143065</td>\n",
       "      <td>0.142711</td>\n",
       "      <td>0.122598</td>\n",
       "      <td>0.122345</td>\n",
       "    </tr>\n",
       "    <tr>\n",
       "      <th>3</th>\n",
       "      <td>036afc</td>\n",
       "      <td>2</td>\n",
       "      <td>1</td>\n",
       "      <td>3.0</td>\n",
       "      <td>315689.0</td>\n",
       "      <td>314676.0</td>\n",
       "      <td>0.161789</td>\n",
       "      <td>0.160997</td>\n",
       "      <td>0.135613</td>\n",
       "      <td>0.135077</td>\n",
       "    </tr>\n",
       "    <tr>\n",
       "      <th>4</th>\n",
       "      <td>036afc</td>\n",
       "      <td>2</td>\n",
       "      <td>1</td>\n",
       "      <td>3.5</td>\n",
       "      <td>338631.0</td>\n",
       "      <td>337715.0</td>\n",
       "      <td>0.172474</td>\n",
       "      <td>0.171067</td>\n",
       "      <td>0.142727</td>\n",
       "      <td>0.141803</td>\n",
       "    </tr>\n",
       "  </tbody>\n",
       "</table>\n",
       "</div>"
      ],
      "text/plain": [
       "  experiment_id  variant_id  metric_id  time_since_start   count_c   count_t  \\\n",
       "0        036afc           2          1               1.5  188065.0  186686.0   \n",
       "1        036afc           2          1               2.0  245041.0  243694.0   \n",
       "2        036afc           2          1               2.5  277237.0  275949.0   \n",
       "3        036afc           2          1               3.0  315689.0  314676.0   \n",
       "4        036afc           2          1               3.5  338631.0  337715.0   \n",
       "\n",
       "     mean_c    mean_t  variance_c  variance_t  \n",
       "0  0.107808  0.107828    0.096186    0.096201  \n",
       "1  0.131790  0.131435    0.114422    0.114160  \n",
       "2  0.143065  0.142711    0.122598    0.122345  \n",
       "3  0.161789  0.160997    0.135613    0.135077  \n",
       "4  0.172474  0.171067    0.142727    0.141803  "
      ]
     },
     "execution_count": 13,
     "metadata": {},
     "output_type": "execute_result"
    }
   ],
   "source": [
    "df.head()"
   ]
  },
  {
   "cell_type": "code",
   "execution_count": 24,
   "id": "2562d5a4-dde0-43a4-8487-f172fcc26779",
   "metadata": {},
   "outputs": [
    {
     "name": "stdout",
     "output_type": "stream",
     "text": [
      "Número de experimentos 78\n",
      "Controle vs Tratamento [2 1 3 0 4]\n",
      "Quais métrcas foram usadas[1 2 3 4]\n"
     ]
    }
   ],
   "source": [
    "print(f'Número de experimentos {df[\"experiment_id\"].nunique()}')  #\n",
    "print(f'Controle vs Tratamento {df[\"variant_id\"].unique()}')         # Controle vs Tratamento\n",
    "print(f'Quais métrcas foram usadas{ df[\"metric_id\"].unique()}')     # Quais métricas foram medidas)"
   ]
  },
  {
   "cell_type": "code",
   "execution_count": 26,
   "id": "55d471ca-6803-4dd3-aff7-8cb42aa42ebf",
   "metadata": {},
   "outputs": [
    {
     "data": {
      "text/plain": [
       "array(['036afc', '058875', '08bcc2', '0bad33', '11cf0c', '162a38',\n",
       "       '1bacbe', '2203f3', '26bd38', '2c8a04', '329386', '3683df',\n",
       "       '39aed1', '3b4300', '3b62b9', '3c9dfd', '3da1aa', '3fef62',\n",
       "       '449c53', '4509ec', '47a23b', '48a675', '4db6c7', '51c502',\n",
       "       '530a76', '54a85a', '591c2c', '5ca6d6', '64dc88', '65c732',\n",
       "       '6c4737', '6f8a33', '79f97f', '7a99e4', '7cd85b', '81761c',\n",
       "       '834947', '84f653', '873d9d', '87f410', '8b436e', '8e0f8a',\n",
       "       '8e2cb6', '8ed19a', '9b959e', '9ed9d5', 'a1e2bf', 'a4386f',\n",
       "       'a68bf4', 'adea31', 'b2da2e', 'b3280a', 'b382c6', 'b8a409',\n",
       "       'bac0d3', 'c3d89d', 'c4df76', 'c56288', 'c74b98', 'cf1b96',\n",
       "       'd0b910', 'd4287a', 'd53f0e', 'd54896', 'd6e1d7', 'd8f486',\n",
       "       'db7752', 'df31d1', 'e4b7b9', 'e4c4a1', 'e861d3', 'e90dd1',\n",
       "       'ee6ff7', 'eeefa3', 'f0df06', 'f50b07', 'fcebce', 'fdaf62'],\n",
       "      dtype=object)"
      ]
     },
     "execution_count": 26,
     "metadata": {},
     "output_type": "execute_result"
    }
   ],
   "source": [
    "df[\"experiment_id\"].unique()"
   ]
  },
  {
   "cell_type": "code",
   "execution_count": 34,
   "id": "2d320426-28f7-41d4-9529-5aa66b6e6ee7",
   "metadata": {},
   "outputs": [
    {
     "data": {
      "text/plain": [
       "Text(0.5, 1.0, 'Evolução da métrica ao longo do tempo')"
      ]
     },
     "execution_count": 34,
     "metadata": {},
     "output_type": "execute_result"
    },
    {
     "data": {
      "image/png": "[encoded data removed]",
      "text/plain": [
       "<Figure size 1000x600 with 1 Axes>"
      ]
     },
     "metadata": {},
     "output_type": "display_data"
    }
   ],
   "source": [
    "experiment_id = 'f50b07'  # escolha um dos ids reais do dataset\n",
    "df_exp = df[df['experiment_id'] == experiment_id]\n",
    "\n",
    "plt.figure(figsize=(10,6))\n",
    "sns.lineplot(data=df_exp, x='time_since_start', y='mean_c', hue='variant_id')\n",
    "plt.title('Evolução da métrica ao longo do tempo')\n"
   ]
  }
 ],
 "metadata": {
  "kernelspec": {
   "display_name": "Python 3 (ipykernel)",
   "language": "python",
   "name": "python3"
  },
  "language_info": {
   "codemirror_mode": {
    "name": "ipython",
    "version": 3
   },
   "file_extension": ".py",
   "mimetype": "text/x-python",
   "name": "python",
   "nbconvert_exporter": "python",
   "pygments_lexer": "ipython3",
   "version": "3.10.0"
  }
 },
 "nbformat": 4,
 "nbformat_minor": 5
}

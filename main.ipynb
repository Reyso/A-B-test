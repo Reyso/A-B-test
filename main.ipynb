{
 "cells": [
  {
   "cell_type": "code",
   "execution_count": 1,
   "id": "abf7d655",
   "metadata": {},
   "outputs": [],
   "source": [
    "import pandas as pd\n",
    "import numpy as np\n",
    "import scipy\n",
    "from scipy.stats import norm\n",
    "import seaborn as sns\n",
    "import matplotlib.pyplot as plt\n",
    "import os\n",
    "\n",
    "sns.set_theme(style=\"ticks\", palette=sns.color_palette(\"Set2\"))"
   ]
  },
  {
   "cell_type": "code",
   "execution_count": 2,
   "id": "4a547985-09b3-4589-9bd3-0ed347823ca7",
   "metadata": {},
   "outputs": [],
   "source": [
    "# Specifying the directories and paths\n",
    "working_folder = \".\"\n",
    "\n",
    "figures_folder = working_folder + os.path.sep + 'figures' + os.path.sep\n",
    "if not os.path.isdir(figures_folder):\n",
    "    os.mkdir(figures_folder)\n",
    "    \n",
    "data_folder = working_folder + os.path.sep + 'data' + os.path.sep # ./data/\n",
    "\n",
    "\n",
    "#'./data/asos_digital_experiments_dataset.parquet'\n",
    "abtest_metrics_local_path = data_folder + 'asos_digital_experiments_dataset.parquet' \n",
    "abtest_metrics_remote_path = \"https://osf.io/62t7f/download\" \n",
    "\n",
    "# Download the dataset if it does not already exist\n",
    "# The body of the if-statement is a shell command\n",
    "if not os.path.exists(abtest_metrics_local_path):\n",
    "    !wget -O $abtest_metrics_local_path $abtest_metrics_remote_path\n",
    "\n",
    "# Load the dataset\n",
    "abtest_metrics_df = pd.read_parquet(abtest_metrics_local_path)"
   ]
  },
  {
   "cell_type": "code",
   "execution_count": 3,
   "id": "fbbdfe94-74eb-4486-9454-e0347bdac705",
   "metadata": {},
   "outputs": [
    {
     "data": {
      "text/html": [
       "<div>\n",
       "<style scoped>\n",
       "    .dataframe tbody tr th:only-of-type {\n",
       "        vertical-align: middle;\n",
       "    }\n",
       "\n",
       "    .dataframe tbody tr th {\n",
       "        vertical-align: top;\n",
       "    }\n",
       "\n",
       "    .dataframe thead th {\n",
       "        text-align: right;\n",
       "    }\n",
       "</style>\n",
       "<table border=\"1\" class=\"dataframe\">\n",
       "  <thead>\n",
       "    <tr style=\"text-align: right;\">\n",
       "      <th></th>\n",
       "      <th>experiment_id</th>\n",
       "      <th>variant_id</th>\n",
       "      <th>metric_id</th>\n",
       "      <th>time_since_start</th>\n",
       "      <th>count_c</th>\n",
       "      <th>count_t</th>\n",
       "      <th>mean_c</th>\n",
       "      <th>mean_t</th>\n",
       "      <th>variance_c</th>\n",
       "      <th>variance_t</th>\n",
       "    </tr>\n",
       "  </thead>\n",
       "  <tbody>\n",
       "    <tr>\n",
       "      <th>0</th>\n",
       "      <td>036afc</td>\n",
       "      <td>2</td>\n",
       "      <td>1</td>\n",
       "      <td>1.5</td>\n",
       "      <td>188065.0</td>\n",
       "      <td>186686.0</td>\n",
       "      <td>0.107808</td>\n",
       "      <td>0.107828</td>\n",
       "      <td>0.096186</td>\n",
       "      <td>0.096201</td>\n",
       "    </tr>\n",
       "    <tr>\n",
       "      <th>1</th>\n",
       "      <td>036afc</td>\n",
       "      <td>2</td>\n",
       "      <td>1</td>\n",
       "      <td>2.0</td>\n",
       "      <td>245041.0</td>\n",
       "      <td>243694.0</td>\n",
       "      <td>0.131790</td>\n",
       "      <td>0.131435</td>\n",
       "      <td>0.114422</td>\n",
       "      <td>0.114160</td>\n",
       "    </tr>\n",
       "    <tr>\n",
       "      <th>2</th>\n",
       "      <td>036afc</td>\n",
       "      <td>2</td>\n",
       "      <td>1</td>\n",
       "      <td>2.5</td>\n",
       "      <td>277237.0</td>\n",
       "      <td>275949.0</td>\n",
       "      <td>0.143065</td>\n",
       "      <td>0.142711</td>\n",
       "      <td>0.122598</td>\n",
       "      <td>0.122345</td>\n",
       "    </tr>\n",
       "    <tr>\n",
       "      <th>3</th>\n",
       "      <td>036afc</td>\n",
       "      <td>2</td>\n",
       "      <td>1</td>\n",
       "      <td>3.0</td>\n",
       "      <td>315689.0</td>\n",
       "      <td>314676.0</td>\n",
       "      <td>0.161789</td>\n",
       "      <td>0.160997</td>\n",
       "      <td>0.135613</td>\n",
       "      <td>0.135077</td>\n",
       "    </tr>\n",
       "    <tr>\n",
       "      <th>4</th>\n",
       "      <td>036afc</td>\n",
       "      <td>2</td>\n",
       "      <td>1</td>\n",
       "      <td>3.5</td>\n",
       "      <td>338631.0</td>\n",
       "      <td>337715.0</td>\n",
       "      <td>0.172474</td>\n",
       "      <td>0.171067</td>\n",
       "      <td>0.142727</td>\n",
       "      <td>0.141803</td>\n",
       "    </tr>\n",
       "    <tr>\n",
       "      <th>...</th>\n",
       "      <td>...</td>\n",
       "      <td>...</td>\n",
       "      <td>...</td>\n",
       "      <td>...</td>\n",
       "      <td>...</td>\n",
       "      <td>...</td>\n",
       "      <td>...</td>\n",
       "      <td>...</td>\n",
       "      <td>...</td>\n",
       "      <td>...</td>\n",
       "    </tr>\n",
       "    <tr>\n",
       "      <th>24148</th>\n",
       "      <td>fdaf62</td>\n",
       "      <td>1</td>\n",
       "      <td>4</td>\n",
       "      <td>28.0</td>\n",
       "      <td>2182559.0</td>\n",
       "      <td>2180705.0</td>\n",
       "      <td>38.270483</td>\n",
       "      <td>38.858464</td>\n",
       "      <td>8478.894092</td>\n",
       "      <td>8708.839083</td>\n",
       "    </tr>\n",
       "    <tr>\n",
       "      <th>24149</th>\n",
       "      <td>fdaf62</td>\n",
       "      <td>1</td>\n",
       "      <td>4</td>\n",
       "      <td>29.0</td>\n",
       "      <td>2259937.0</td>\n",
       "      <td>2257899.0</td>\n",
       "      <td>38.485748</td>\n",
       "      <td>39.065107</td>\n",
       "      <td>8627.264583</td>\n",
       "      <td>8821.982824</td>\n",
       "    </tr>\n",
       "    <tr>\n",
       "      <th>24150</th>\n",
       "      <td>fdaf62</td>\n",
       "      <td>1</td>\n",
       "      <td>4</td>\n",
       "      <td>30.0</td>\n",
       "      <td>2341537.0</td>\n",
       "      <td>2339309.0</td>\n",
       "      <td>38.691410</td>\n",
       "      <td>39.211843</td>\n",
       "      <td>8916.435308</td>\n",
       "      <td>8848.559719</td>\n",
       "    </tr>\n",
       "    <tr>\n",
       "      <th>24151</th>\n",
       "      <td>fdaf62</td>\n",
       "      <td>1</td>\n",
       "      <td>4</td>\n",
       "      <td>31.0</td>\n",
       "      <td>2422152.0</td>\n",
       "      <td>2419745.0</td>\n",
       "      <td>38.705264</td>\n",
       "      <td>39.263485</td>\n",
       "      <td>8836.078773</td>\n",
       "      <td>8884.955277</td>\n",
       "    </tr>\n",
       "    <tr>\n",
       "      <th>24152</th>\n",
       "      <td>fdaf62</td>\n",
       "      <td>1</td>\n",
       "      <td>4</td>\n",
       "      <td>32.0</td>\n",
       "      <td>2478580.0</td>\n",
       "      <td>2475916.0</td>\n",
       "      <td>38.962364</td>\n",
       "      <td>39.554518</td>\n",
       "      <td>9077.322251</td>\n",
       "      <td>9215.231273</td>\n",
       "    </tr>\n",
       "  </tbody>\n",
       "</table>\n",
       "<p>24153 rows × 10 columns</p>\n",
       "</div>"
      ],
      "text/plain": [
       "      experiment_id  variant_id  metric_id  time_since_start    count_c  \\\n",
       "0            036afc           2          1               1.5   188065.0   \n",
       "1            036afc           2          1               2.0   245041.0   \n",
       "2            036afc           2          1               2.5   277237.0   \n",
       "3            036afc           2          1               3.0   315689.0   \n",
       "4            036afc           2          1               3.5   338631.0   \n",
       "...             ...         ...        ...               ...        ...   \n",
       "24148        fdaf62           1          4              28.0  2182559.0   \n",
       "24149        fdaf62           1          4              29.0  2259937.0   \n",
       "24150        fdaf62           1          4              30.0  2341537.0   \n",
       "24151        fdaf62           1          4              31.0  2422152.0   \n",
       "24152        fdaf62           1          4              32.0  2478580.0   \n",
       "\n",
       "         count_t     mean_c     mean_t   variance_c   variance_t  \n",
       "0       186686.0   0.107808   0.107828     0.096186     0.096201  \n",
       "1       243694.0   0.131790   0.131435     0.114422     0.114160  \n",
       "2       275949.0   0.143065   0.142711     0.122598     0.122345  \n",
       "3       314676.0   0.161789   0.160997     0.135613     0.135077  \n",
       "4       337715.0   0.172474   0.171067     0.142727     0.141803  \n",
       "...          ...        ...        ...          ...          ...  \n",
       "24148  2180705.0  38.270483  38.858464  8478.894092  8708.839083  \n",
       "24149  2257899.0  38.485748  39.065107  8627.264583  8821.982824  \n",
       "24150  2339309.0  38.691410  39.211843  8916.435308  8848.559719  \n",
       "24151  2419745.0  38.705264  39.263485  8836.078773  8884.955277  \n",
       "24152  2475916.0  38.962364  39.554518  9077.322251  9215.231273  \n",
       "\n",
       "[24153 rows x 10 columns]"
      ]
     },
     "execution_count": 3,
     "metadata": {},
     "output_type": "execute_result"
    }
   ],
   "source": [
    "abtest_metrics_df"
   ]
  },
  {
   "cell_type": "code",
   "execution_count": 4,
   "id": "62047388-70b7-4941-8adc-7baebdbc81dd",
   "metadata": {},
   "outputs": [
    {
     "name": "stdout",
     "output_type": "stream",
     "text": [
      "<class 'pandas.core.frame.DataFrame'>\n",
      "RangeIndex: 24153 entries, 0 to 24152\n",
      "Data columns (total 10 columns):\n",
      " #   Column            Non-Null Count  Dtype  \n",
      "---  ------            --------------  -----  \n",
      " 0   experiment_id     24153 non-null  object \n",
      " 1   variant_id        24153 non-null  int64  \n",
      " 2   metric_id         24153 non-null  int64  \n",
      " 3   time_since_start  24153 non-null  float64\n",
      " 4   count_c           24153 non-null  float64\n",
      " 5   count_t           24153 non-null  float64\n",
      " 6   mean_c            24153 non-null  float64\n",
      " 7   mean_t            24153 non-null  float64\n",
      " 8   variance_c        23375 non-null  float64\n",
      " 9   variance_t        23374 non-null  float64\n",
      "dtypes: float64(7), int64(2), object(1)\n",
      "memory usage: 1.8+ MB\n"
     ]
    }
   ],
   "source": [
    "abtest_metrics_df.info()"
   ]
  },
  {
   "cell_type": "code",
   "execution_count": 5,
   "id": "b5e2d69b-0592-4d39-8676-e5573111f965",
   "metadata": {},
   "outputs": [
    {
     "data": {
      "text/plain": [
       "experiment_id\n",
       "cf1b96    91.500000\n",
       "6f8a33    91.061644\n",
       "2c8a04    68.252033\n",
       "3b62b9    61.784483\n",
       "81761c    60.784483\n",
       "            ...    \n",
       "eeefa3     7.250000\n",
       "591c2c     7.000000\n",
       "b2da2e     2.500000\n",
       "a1e2bf     1.750000\n",
       "84f653     1.500000\n",
       "Name: time_since_start, Length: 78, dtype: float64"
      ]
     },
     "execution_count": 5,
     "metadata": {},
     "output_type": "execute_result"
    }
   ],
   "source": [
    "abtest_metrics_df.groupby(['experiment_id']).agg('time_since_start').mean().sort_values(ascending=False)\n"
   ]
  },
  {
   "cell_type": "code",
   "execution_count": 55,
   "id": "b21fcec1-905a-427c-a09f-24e30a5886cd",
   "metadata": {},
   "outputs": [],
   "source": [
    "df_cf1 = abtest_metrics_df.loc[(abtest_metrics_df['experiment_id'] == 'cf1b96') & (abtest_metrics_df['metric_id'] == 1)].reset_index()"
   ]
  },
  {
   "cell_type": "code",
   "execution_count": 56,
   "id": "0ad2a44c-21a1-48a4-aa06-5ec3cd9132fa",
   "metadata": {},
   "outputs": [
    {
     "data": {
      "text/html": [
       "<div>\n",
       "<style scoped>\n",
       "    .dataframe tbody tr th:only-of-type {\n",
       "        vertical-align: middle;\n",
       "    }\n",
       "\n",
       "    .dataframe tbody tr th {\n",
       "        vertical-align: top;\n",
       "    }\n",
       "\n",
       "    .dataframe thead th {\n",
       "        text-align: right;\n",
       "    }\n",
       "</style>\n",
       "<table border=\"1\" class=\"dataframe\">\n",
       "  <thead>\n",
       "    <tr style=\"text-align: right;\">\n",
       "      <th></th>\n",
       "      <th>index</th>\n",
       "      <th>experiment_id</th>\n",
       "      <th>variant_id</th>\n",
       "      <th>metric_id</th>\n",
       "      <th>time_since_start</th>\n",
       "      <th>count_c</th>\n",
       "      <th>count_t</th>\n",
       "      <th>mean_c</th>\n",
       "      <th>mean_t</th>\n",
       "      <th>variance_c</th>\n",
       "      <th>variance_t</th>\n",
       "    </tr>\n",
       "  </thead>\n",
       "  <tbody>\n",
       "    <tr>\n",
       "      <th>0</th>\n",
       "      <td>18941</td>\n",
       "      <td>cf1b96</td>\n",
       "      <td>1</td>\n",
       "      <td>1</td>\n",
       "      <td>88.5</td>\n",
       "      <td>2682484.0</td>\n",
       "      <td>2680930.0</td>\n",
       "      <td>0.335375</td>\n",
       "      <td>0.335491</td>\n",
       "      <td>0.222899</td>\n",
       "      <td>0.222937</td>\n",
       "    </tr>\n",
       "    <tr>\n",
       "      <th>1</th>\n",
       "      <td>18942</td>\n",
       "      <td>cf1b96</td>\n",
       "      <td>1</td>\n",
       "      <td>1</td>\n",
       "      <td>89.5</td>\n",
       "      <td>2686484.0</td>\n",
       "      <td>2685011.0</td>\n",
       "      <td>0.336715</td>\n",
       "      <td>0.336832</td>\n",
       "      <td>0.223338</td>\n",
       "      <td>0.223376</td>\n",
       "    </tr>\n",
       "    <tr>\n",
       "      <th>2</th>\n",
       "      <td>18943</td>\n",
       "      <td>cf1b96</td>\n",
       "      <td>1</td>\n",
       "      <td>1</td>\n",
       "      <td>90.5</td>\n",
       "      <td>2691092.0</td>\n",
       "      <td>2689690.0</td>\n",
       "      <td>0.338479</td>\n",
       "      <td>0.338534</td>\n",
       "      <td>0.223911</td>\n",
       "      <td>0.223929</td>\n",
       "    </tr>\n",
       "    <tr>\n",
       "      <th>3</th>\n",
       "      <td>18944</td>\n",
       "      <td>cf1b96</td>\n",
       "      <td>1</td>\n",
       "      <td>1</td>\n",
       "      <td>91.5</td>\n",
       "      <td>2694599.0</td>\n",
       "      <td>2693398.0</td>\n",
       "      <td>0.339938</td>\n",
       "      <td>0.340017</td>\n",
       "      <td>0.224380</td>\n",
       "      <td>0.224406</td>\n",
       "    </tr>\n",
       "    <tr>\n",
       "      <th>4</th>\n",
       "      <td>18945</td>\n",
       "      <td>cf1b96</td>\n",
       "      <td>1</td>\n",
       "      <td>1</td>\n",
       "      <td>92.5</td>\n",
       "      <td>2696653.0</td>\n",
       "      <td>2695632.0</td>\n",
       "      <td>0.341266</td>\n",
       "      <td>0.341327</td>\n",
       "      <td>0.224804</td>\n",
       "      <td>0.224823</td>\n",
       "    </tr>\n",
       "    <tr>\n",
       "      <th>5</th>\n",
       "      <td>18946</td>\n",
       "      <td>cf1b96</td>\n",
       "      <td>1</td>\n",
       "      <td>1</td>\n",
       "      <td>93.5</td>\n",
       "      <td>2696706.0</td>\n",
       "      <td>2695706.0</td>\n",
       "      <td>0.342779</td>\n",
       "      <td>0.342870</td>\n",
       "      <td>0.225282</td>\n",
       "      <td>0.225310</td>\n",
       "    </tr>\n",
       "    <tr>\n",
       "      <th>6</th>\n",
       "      <td>18947</td>\n",
       "      <td>cf1b96</td>\n",
       "      <td>1</td>\n",
       "      <td>1</td>\n",
       "      <td>94.5</td>\n",
       "      <td>2696764.0</td>\n",
       "      <td>2695777.0</td>\n",
       "      <td>0.344429</td>\n",
       "      <td>0.344545</td>\n",
       "      <td>0.225798</td>\n",
       "      <td>0.225834</td>\n",
       "    </tr>\n",
       "  </tbody>\n",
       "</table>\n",
       "</div>"
      ],
      "text/plain": [
       "   index experiment_id  variant_id  metric_id  time_since_start    count_c  \\\n",
       "0  18941        cf1b96           1          1              88.5  2682484.0   \n",
       "1  18942        cf1b96           1          1              89.5  2686484.0   \n",
       "2  18943        cf1b96           1          1              90.5  2691092.0   \n",
       "3  18944        cf1b96           1          1              91.5  2694599.0   \n",
       "4  18945        cf1b96           1          1              92.5  2696653.0   \n",
       "5  18946        cf1b96           1          1              93.5  2696706.0   \n",
       "6  18947        cf1b96           1          1              94.5  2696764.0   \n",
       "\n",
       "     count_t    mean_c    mean_t  variance_c  variance_t  \n",
       "0  2680930.0  0.335375  0.335491    0.222899    0.222937  \n",
       "1  2685011.0  0.336715  0.336832    0.223338    0.223376  \n",
       "2  2689690.0  0.338479  0.338534    0.223911    0.223929  \n",
       "3  2693398.0  0.339938  0.340017    0.224380    0.224406  \n",
       "4  2695632.0  0.341266  0.341327    0.224804    0.224823  \n",
       "5  2695706.0  0.342779  0.342870    0.225282    0.225310  \n",
       "6  2695777.0  0.344429  0.344545    0.225798    0.225834  "
      ]
     },
     "execution_count": 56,
     "metadata": {},
     "output_type": "execute_result"
    }
   ],
   "source": [
    "df_cf1"
   ]
  },
  {
   "cell_type": "code",
   "execution_count": 75,
   "id": "06e33168-5fc5-4929-998f-0e0d9f2aa61f",
   "metadata": {},
   "outputs": [],
   "source": [
    "from scipy.stats import ttest_ind_from_stats\n",
    "\n",
    "\n",
    "df = abtest_metrics_df.copy()"
   ]
  },
  {
   "cell_type": "code",
   "execution_count": 77,
   "id": "d2e1efea-7685-453e-9050-69848c5543a2",
   "metadata": {},
   "outputs": [
    {
     "data": {
      "image/png": "[encoded data removed]",
      "text/plain": [
       "<Figure size 640x480 with 1 Axes>"
      ]
     },
     "metadata": {},
     "output_type": "display_data"
    }
   ],
   "source": [
    "# Etapa 3: Exploração inicial\n",
    "df[\"metric_id\"].value_counts().sort_index().plot[\"experiment_id\"].unique()[3](kind=\"barh\")\n",
    "plt.title(\"Distribuição das métricas\")\n",
    "plt.xlabel(\"metric_id\")\n",
    "plt.ylabel(\"Número de entradas\")\n",
    "plt.show()"
   ]
  },
  {
   "cell_type": "code",
   "execution_count": 88,
   "id": "d90d30bd-e177-40b3-9b13-56410de00a1f",
   "metadata": {},
   "outputs": [
    {
     "data": {
      "text/plain": [
       "experiment_id\n",
       "54a85a    1152\n",
       "2c8a04     984\n",
       "81761c     928\n",
       "b382c6     848\n",
       "329386     792\n",
       "          ... \n",
       "591c2c      48\n",
       "b2da2e      32\n",
       "cf1b96      28\n",
       "a1e2bf      16\n",
       "84f653       8\n",
       "Name: count, Length: 78, dtype: int64"
      ]
     },
     "execution_count": 88,
     "metadata": {},
     "output_type": "execute_result"
    }
   ],
   "source": [
    "df[\"experiment_id\"].value_counts(ascending=False)"
   ]
  },
  {
   "cell_type": "code",
   "execution_count": 89,
   "id": "712b1186-4be1-45a2-ad72-8fe325d5b38b",
   "metadata": {},
   "outputs": [],
   "source": [
    "exp_id = '81761c'\n",
    "sub_df = df[(df[\"experiment_id\"] == exp_id) & (df[\"metric_id\"] == 1)]"
   ]
  },
  {
   "cell_type": "code",
   "execution_count": 90,
   "id": "4a2560e3-773f-4bcb-8386-9fe787e7c2e4",
   "metadata": {},
   "outputs": [],
   "source": [
    "# Ordenar por tempo\n",
    "df_ord = sub_df.sort_values(\"time_since_start\")"
   ]
  },
  {
   "cell_type": "code",
   "execution_count": 91,
   "id": "f15cb2e7-45fc-438c-8073-2fab76e4ffbe",
   "metadata": {},
   "outputs": [
    {
     "data": {
      "image/png": "[encoded data removed]",
      "text/plain": [
       "<Figure size 640x480 with 1 Axes>"
      ]
     },
     "metadata": {},
     "output_type": "display_data"
    }
   ],
   "source": [
    "# Plotar evolução da média\n",
    "plt.plot(df_ord[\"time_since_start\"], df_ord[\"mean_t\"], label=\"Tratamento\")\n",
    "plt.plot(df_ord[\"time_since_start\"], df_ord[\"mean_c\"], label=\"Controle\")\n",
    "plt.xlabel(\"Dias desde o início\")\n",
    "plt.ylabel(\"Média acumulada\")\n",
    "plt.title(f\"Evolução das médias - Experimento {exp_id}\")\n",
    "plt.legend()\n",
    "plt.show()\n"
   ]
  },
  {
   "cell_type": "code",
   "execution_count": 99,
   "id": "2ec79865-f4c0-46bd-87a8-2c28cbc255de",
   "metadata": {},
   "outputs": [
    {
     "name": "stdout",
     "output_type": "stream",
     "text": [
      "Teste T no ultimo dia de experimento\n",
      "p-valor:  1.9006566348312876e-26\n",
      "Estatistica T:  10.642098310792596\n"
     ]
    }
   ],
   "source": [
    "last = df_ord.iloc[-1]\n",
    "res = ttest_ind_from_stats(\n",
    "    mean1=last['mean_t'], std1=np.sqrt(last['variance_t']), nobs1=last[\"count_t\"],\n",
    "    mean2=last['mean_c'], std2=np.sqrt(last['variance_c']), nobs2=last[\"count_c\"],\n",
    "    equal_var= False\n",
    "    \n",
    ")\n",
    "\n",
    "print('Teste T no ultimo dia de experimento')\n",
    "print('p-valor: ', res.pvalue)\n",
    "print('Estatistica T: ', res.statistic)"
   ]
  },
  {
   "cell_type": "code",
   "execution_count": null,
   "id": "f63be370-cd18-464a-9573-2388578be39e",
   "metadata": {},
   "outputs": [],
   "source": [
    "# Etapa 6: Evolução do p-valor ao longo do tempo\n",
    "p_values = []\n",
    "for _, row in df_ord.iterrows():\n",
    "    try:\n",
    "        p = ttest_ind_from_stats(\n",
    "            mean1=row[\"mean_t\"], std1=np.sqrt(row[\"variance_t\"]), nobs1=row[\"count_t\"],\n",
    "            mean2=row[\"mean_c\"], std2=np.sqrt(row[\"variance_c\"]), nobs2=row[\"count_c\"],\n",
    "            equal_var=False\n",
    "        ).pvalue\n",
    "        p_values.append(p)\n",
    "    except:\n",
    "        p_values.append(np.nan)\n",
    "\n",
    "plt.plot(df_ord[\"time_since_start\"], p_values, marker=\"o\")\n",
    "plt.axhline(0.05, color=\"red\", linestyle=\"--\", label=\"Nível de significância\")\n",
    "plt.xlabel(\"Dias\")\n",
    "plt.ylabel(\"p-valor\")\n",
    "plt.title(\"Evolução do p-valor ao longo do tempo\")\n",
    "plt.legend()\n",
    "plt.show()"
   ]
  },
  {
   "cell_type": "markdown",
   "id": "45f84bce-9c96-4f38-af74-a4f44878d7c4",
   "metadata": {},
   "source": [
    "## 2"
   ]
  },
  {
   "cell_type": "code",
   "execution_count": 101,
   "id": "89be4d93-d850-4785-8dac-9be14b511660",
   "metadata": {},
   "outputs": [],
   "source": [
    "# 2. Escolher um experimento com metric_id = 1 (métrica binária)\n",
    "binaria = df[df.metric_id == 1]\n",
    "experimento_id = binaria.experiment_id.unique()[0]\n",
    "sub = binaria[binaria.experiment_id == experimento_id].sort_values(\"time_since_start\")"
   ]
  },
  {
   "cell_type": "markdown",
   "id": "8066059f-6aa7-4361-8e84-eb3ad99c7ca7",
   "metadata": {},
   "source": [
    "### 3. Definindo as hipóteses\n",
    "\"\"\"\n",
    "H0: A taxa de conversão do tratamento é igual à do controle\n",
    "H1: A taxa de conversão do tratamento é diferente da do controle\n",
    "Usaremos um teste z para proporções com base em médias e variâncias agregadas.\n",
    "\"\"\"\n"
   ]
  },
  {
   "cell_type": "code",
   "execution_count": 104,
   "id": "2800c0b6-4e0b-405c-b36c-afd51169b2f6",
   "metadata": {},
   "outputs": [],
   "source": [
    "# 4. Observar o último dia do experimento (mais dados acumulados)\n",
    "linha = sub.iloc[-1]\n",
    "# Extrair estatísticas\n",
    "mean_c = linha['mean_c']\n",
    "mean_t = linha['mean_t']\n",
    "var_c = linha['variance_c']\n",
    "var_t = linha['variance_t']\n",
    "n_c = linha['count_c']\n",
    "n_t = linha['count_t']\n",
    "\n"
   ]
  },
  {
   "cell_type": "code",
   "execution_count": 106,
   "id": "56e113ef-fc2f-4b5f-8d74-b572508d30f4",
   "metadata": {},
   "outputs": [
    {
     "name": "stdout",
     "output_type": "stream",
     "text": [
      "Taxa de conversão controle: 0.5868\n",
      "Taxa de conversão tratamento: 0.5873\n",
      "Erro padrão: 0.000679\n",
      "Estatística Z: 0.7458\n",
      "p-valor: 0.45582\n"
     ]
    }
   ],
   "source": [
    "# 5. Cálculo do erro padrão e estatística Z\n",
    "se = np.sqrt((var_c / n_c) + (var_t / n_t))\n",
    "z = (mean_t - mean_c) / se\n",
    "p = 2 * (1 - norm.cdf(abs(z)))\n",
    "print(f\"Taxa de conversão controle: {mean_c:.4f}\")\n",
    "print(f\"Taxa de conversão tratamento: {mean_t:.4f}\")\n",
    "print(f\"Erro padrão: {se:.6f}\")\n",
    "print(f\"Estatística Z: {z:.4f}\")\n",
    "print(f\"p-valor: {p:.5f}\")\n"
   ]
  },
  {
   "cell_type": "code",
   "execution_count": 107,
   "id": "488a67e5-2727-407f-b597-25195d3e580e",
   "metadata": {},
   "outputs": [
    {
     "data": {
      "image/png": "[encoded data removed]",
      "text/plain": [
       "<Figure size 640x480 with 1 Axes>"
      ]
     },
     "metadata": {},
     "output_type": "display_data"
    }
   ],
   "source": [
    "# 6. Visualização das médias ao longo do tempo\n",
    "plt.plot(sub[\"time_since_start\"], sub[\"mean_t\"], label=\"Tratamento\")\n",
    "plt.plot(sub[\"time_since_start\"], sub[\"mean_c\"], label=\"Controle\")\n",
    "plt.xlabel(\"Dias\")\n",
    "plt.ylabel(\"Taxa de conversão acumulada\")\n",
    "plt.title(\"Evolução da conversão ao longo do experimento\")\n",
    "plt.legend()\n",
    "plt.grid()\n",
    "plt.show()\n"
   ]
  }
 ],
 "metadata": {
  "kernelspec": {
   "display_name": "Python 3 (ipykernel)",
   "language": "python",
   "name": "python3"
  },
  "language_info": {
   "codemirror_mode": {
    "name": "ipython",
    "version": 3
   },
   "file_extension": ".py",
   "mimetype": "text/x-python",
   "name": "python",
   "nbconvert_exporter": "python",
   "pygments_lexer": "ipython3",
   "version": "3.10.0"
  }
 },
 "nbformat": 4,
 "nbformat_minor": 5
}
